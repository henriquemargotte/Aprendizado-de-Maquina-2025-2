{
 "cells": [
  {
   "cell_type": "markdown",
   "id": "25d7bb41",
   "metadata": {},
   "source": [
    "# Laboratório 4\n",
    "Material desenvolvido por Henrique Margotte e Aurora Pozo para a disciplina de Aprendizado de Máquina, para o curso de Informática Biomédica da UFPR, semestre 2025/2. Códigos baseados em exemplos da biblioteca scikit-learn e nos notebooks Python do livro \"Inteligência Artificial: Uma Abordagem de Aprendizado de Máquina\", 2ª edição."
   ]
  },
  {
   "cell_type": "markdown",
   "id": "1b342a44",
   "metadata": {},
   "source": [
    "# Exemplo 1: Processamento de Linguagem Natural (PLN)\n",
    "Nos últimos laboratórios, tratamos de diversas técnicas de pré-processamento de dados e aprendemos a como transformar atributos categóricos em formato textual para numérico, mas, como fazemos se os nossos dados são compostos de textos? Vamos pensar sobre isso observando o exemplo a seguir:"
   ]
  },
  {
   "cell_type": "code",
   "execution_count": 13,
   "id": "b62db44e",
   "metadata": {},
   "outputs": [
    {
     "data": {
      "text/html": [
       "<div>\n",
       "<style scoped>\n",
       "    .dataframe tbody tr th:only-of-type {\n",
       "        vertical-align: middle;\n",
       "    }\n",
       "\n",
       "    .dataframe tbody tr th {\n",
       "        vertical-align: top;\n",
       "    }\n",
       "\n",
       "    .dataframe thead th {\n",
       "        text-align: right;\n",
       "    }\n",
       "</style>\n",
       "<table border=\"1\" class=\"dataframe\">\n",
       "  <thead>\n",
       "    <tr style=\"text-align: right;\">\n",
       "      <th></th>\n",
       "      <th>class</th>\n",
       "      <th>review_title</th>\n",
       "    </tr>\n",
       "  </thead>\n",
       "  <tbody>\n",
       "    <tr>\n",
       "      <th>0</th>\n",
       "      <td>1</td>\n",
       "      <td>Adolescent theology</td>\n",
       "    </tr>\n",
       "    <tr>\n",
       "      <th>1</th>\n",
       "      <td>2</td>\n",
       "      <td>A Great Guide for the Mushroom Lover</td>\n",
       "    </tr>\n",
       "    <tr>\n",
       "      <th>2</th>\n",
       "      <td>1</td>\n",
       "      <td>Great book, horrible movie</td>\n",
       "    </tr>\n",
       "    <tr>\n",
       "      <th>3</th>\n",
       "      <td>2</td>\n",
       "      <td>The BEST all-around cookbook I have ever had!</td>\n",
       "    </tr>\n",
       "    <tr>\n",
       "      <th>4</th>\n",
       "      <td>2</td>\n",
       "      <td>Daft, Daffy, but Deft</td>\n",
       "    </tr>\n",
       "  </tbody>\n",
       "</table>\n",
       "</div>"
      ],
      "text/plain": [
       "   class                                   review_title\n",
       "0      1                            Adolescent theology\n",
       "1      2           A Great Guide for the Mushroom Lover\n",
       "2      1                     Great book, horrible movie\n",
       "3      2  The BEST all-around cookbook I have ever had!\n",
       "4      2                          Daft, Daffy, but Deft"
      ]
     },
     "execution_count": 13,
     "metadata": {},
     "output_type": "execute_result"
    }
   ],
   "source": [
    "# Preparando o ambiente\n",
    "import pandas as pd\n",
    "import numpy as np\n",
    "\n",
    "# Importando base de dados\n",
    "df = pd.read_csv('title_reviews.csv')\n",
    "df = df.head(1000) # usando apenas 1000 amostras para exemplo\n",
    "df.head()"
   ]
  },
  {
   "cell_type": "markdown",
   "id": "cd35adb1",
   "metadata": {},
   "source": [
    "Os dados acima são uma amostra da base \"Amazon Review Polaridy Dataset\", disponibilizada por Xiang Zhang (https://drive.google.com/file/d/0Bz8a_Dbh9QhbaW12WVVZS2drcnM/view?usp=drive_link&resourcekey=0-NlNEsGjcAEPJBwDJtuuZ3Q). Ela é composta de avaliações reais de produtos da Amazon, com a classe sendo atribuída como 1: avaliações negativas; e 2: avaliações positivas. A base ainda possui uma coluna com o título da avaliação e outra com o texto completo, mas que foi suprimida para esse exemplo.\n",
    "\n",
    "Levando isso em conta, ela não é tão diferente das outras bases que utilizamos, possui uma classe definida e atributos que podem ser utilizados para classificar os dados, o que poderia ser ensinado a um modelo de Aprendizado de Máquina (AM). Mas, como podemos transformar esse texto em informação numérica para um modelo aprender?\n",
    "\n",
    "Esse tipo de problema faz parte da área de Processamento de Linguagem Natural (PNL, ou NLP, do inglês Natural Language Processing). O PNL engloba diversos problemas relacionados com linguagem natural, ou seja, humana, desde textos escritos, até falas e língua de sinais. No Laboratório de hoje iremos explorar apenas uma amostra do PNL, mas a área é muito mais extensa do que podemos tratar aqui, incluindo sistemas de tradução automática, reconhecimento de fala, os grandes modelos de linguagem (LLMs), entre outros!"
   ]
  },
  {
   "cell_type": "markdown",
   "id": "b86d6f23",
   "metadata": {},
   "source": [
    "## Normalizando os dados\n",
    "Uma das etapas de pré-processamento que podemos aplicar em textos, antes mesmo de transformá-los para conceitos numéricos, é a normalização. Note que essa normalização não é a mesma que aplicamos nos dados até agora, aqui, o objetivo é deixar o texto um pouco mais compreensível e simples para podermos extrair informações.\n",
    "\n",
    "Um dos métodos mais simples de fazer isso, é mantendo todas as letras como minúsculas ou maiúsculas, assim o modelo poderá entender que \"Exemplo\" e \"exemplo\" são a mesma palavra. Podemos usar os métodos do tipo `str` (string) para isso, com a função `lower` transformando as strings para letras minúsculas e a função `strip` removendo, por padrão, espaços em branco extras, tabulações e quebras de linhas, que podem ser úteis dependendo das técnicas a serem utilizadas."
   ]
  },
  {
   "cell_type": "code",
   "execution_count": 15,
   "id": "50a9563e",
   "metadata": {},
   "outputs": [
    {
     "data": {
      "text/html": [
       "<div>\n",
       "<style scoped>\n",
       "    .dataframe tbody tr th:only-of-type {\n",
       "        vertical-align: middle;\n",
       "    }\n",
       "\n",
       "    .dataframe tbody tr th {\n",
       "        vertical-align: top;\n",
       "    }\n",
       "\n",
       "    .dataframe thead th {\n",
       "        text-align: right;\n",
       "    }\n",
       "</style>\n",
       "<table border=\"1\" class=\"dataframe\">\n",
       "  <thead>\n",
       "    <tr style=\"text-align: right;\">\n",
       "      <th></th>\n",
       "      <th>class</th>\n",
       "      <th>review_title</th>\n",
       "    </tr>\n",
       "  </thead>\n",
       "  <tbody>\n",
       "    <tr>\n",
       "      <th>0</th>\n",
       "      <td>1</td>\n",
       "      <td>adolescent theology</td>\n",
       "    </tr>\n",
       "    <tr>\n",
       "      <th>1</th>\n",
       "      <td>2</td>\n",
       "      <td>a great guide for the mushroom lover</td>\n",
       "    </tr>\n",
       "    <tr>\n",
       "      <th>2</th>\n",
       "      <td>1</td>\n",
       "      <td>great book, horrible movie</td>\n",
       "    </tr>\n",
       "    <tr>\n",
       "      <th>3</th>\n",
       "      <td>2</td>\n",
       "      <td>the best all-around cookbook i have ever had!</td>\n",
       "    </tr>\n",
       "    <tr>\n",
       "      <th>4</th>\n",
       "      <td>2</td>\n",
       "      <td>daft, daffy, but deft</td>\n",
       "    </tr>\n",
       "  </tbody>\n",
       "</table>\n",
       "</div>"
      ],
      "text/plain": [
       "   class                                   review_title\n",
       "0      1                            adolescent theology\n",
       "1      2           a great guide for the mushroom lover\n",
       "2      1                     great book, horrible movie\n",
       "3      2  the best all-around cookbook i have ever had!\n",
       "4      2                          daft, daffy, but deft"
      ]
     },
     "execution_count": 15,
     "metadata": {},
     "output_type": "execute_result"
    }
   ],
   "source": [
    "# normalize the text\n",
    "df['review_title'] = df['review_title'].str.lower()\n",
    "df['review_title'] = df['review_title'].str.strip()\n",
    "df.head()"
   ]
  },
  {
   "cell_type": "markdown",
   "id": "b58dca96",
   "metadata": {},
   "source": [
    "Isso ainda pode gerar conflitos, como por exemplo \"rs\", que normalemente se refere a risos, e \"RS\", sigla do Rio Grande do Sul, seriam tratados como a mesma palavra. Mas, mesmo em palavras sem essa diferença isso pode ocorrer, como na palavra \"manga\", que pode ser tanto uma fruta quanto uma parte de uma roupa, e existem métodos de contornar isso, como os mecanismos de atenção utilizados por LLMs, e que não abordaremos aqui.\n",
    "\n",
    "Ainda há outros problemas que poderiam ser tratados nessa etapa, como aproximar palavras equivalentes, como \"programador\" e \"programadora\" em contextos em que o gênero não é relevante, ou conjugações de verbos, já que \"correr\", \"corri\", \"correu\" e \"corremos\" podem ter significados bem próximos, mas que serão tratados diferentemente a depender das técnicas. A tokenização é uma estratégia para contornar esses casos, por exemplo.\n",
    "\n",
    "Por enquanto, manteremos nossa base de dados do jeito que está, apenas aplicando as funções `lower` e `strip`."
   ]
  },
  {
   "cell_type": "markdown",
   "id": "ca745d65",
   "metadata": {},
   "source": [
    "## Removendo palavras irrelevantes\n",
    "Assim como removemos atributos irrelevantes para o problema nos laboratórios anteriores, podemos excluir palavras que não agregam para o problema que estamos tentando resolver. Por exemplo, os conectivos, preposições e artigos (\"e\", \"com\", \"as\", \"o\", \"de\", \"para\", etc.) podem não ser relevantes. Esses tipos de palavras são chamadas de *stopwords*, e algumas bibliotecas já incluem dicionários e funções próprias para removê-las do texto. Também podem ser removidas palavras manualmente, adicionando-as à lista de *stopwords*, para casos em que uma palavra seja irrelevante em seu contexto, como a palavra \"livro\" em uma base de dados de avaliações de uma biblioteca."
   ]
  },
  {
   "cell_type": "code",
   "execution_count": 16,
   "id": "f9927769",
   "metadata": {},
   "outputs": [
    {
     "data": {
      "text/plain": [
       "0              adolescent theology\n",
       "1       great guide mushroom lover\n",
       "2       great book, horrible movie\n",
       "3    best all-around cookbook had!\n",
       "4                daft, daffy, deft\n",
       "Name: review_title, dtype: object"
      ]
     },
     "execution_count": 16,
     "metadata": {},
     "output_type": "execute_result"
    }
   ],
   "source": [
    "# remove stop words\n",
    "from sklearn.feature_extraction.text import ENGLISH_STOP_WORDS\n",
    "\n",
    "df['review_title'].apply(lambda x: ' '.join([word for word in x.split() if word not in ENGLISH_STOP_WORDS])).head()"
   ]
  }
 ],
 "metadata": {
  "kernelspec": {
   "display_name": ".venv",
   "language": "python",
   "name": "python3"
  },
  "language_info": {
   "codemirror_mode": {
    "name": "ipython",
    "version": 3
   },
   "file_extension": ".py",
   "mimetype": "text/x-python",
   "name": "python",
   "nbconvert_exporter": "python",
   "pygments_lexer": "ipython3",
   "version": "3.13.3"
  }
 },
 "nbformat": 4,
 "nbformat_minor": 5
}
