{
 "cells": [
  {
   "cell_type": "markdown",
   "id": "c958484a",
   "metadata": {},
   "source": [
    "# Laboratório 8\n",
    "Material desenvolvido por Henrique Margotte e Aurora Pozo para a disciplina de Aprendizado de Máquina, para o curso de Informática Biomédica da UFPR, semestre 2025/2. Códigos baseados em exemplos da biblioteca scikit-learn e nos notebooks Python do livro \"Inteligência Artificial: Uma Abordagem de Aprendizado de Máquina\", 2ª edição."
   ]
  },
  {
   "cell_type": "markdown",
   "id": "a34161c5",
   "metadata": {},
   "source": [
    "# Exemplo 1: Ensembles\n",
    "Durante os laboratórios, vimos diversos modelos de Aprendizado de Máquina, desde os mais tradicionais até as cada vez mais complexas redes neurais. E vimos que cada modelo tem suas vantagens e desvantagens, conseguindo resultados melhores ou piores para cada tipo de problema, variando até mesmo entre versões diferentes de um mesmo modelo, ao ajustarmos seus hiperparâmetros. Também vimos como realizar comparações e experimentos para definir qual é o melhor para determinada tarefa.\n",
    "\n",
    "Mas, e se não quisermos usar apenas um modelo? E se usarmos mais de uma variação de um mesmo modelo? Se combinarmos diferentes modelos de Aprendizado de Máquina, poderíamos obter melhores resultados que apenas um? Essas são as ideias trabalhadas pelo conceito de `Ensemble`.\n",
    "\n",
    "Ensemble consiste na combinação de vários modelos para resolver um mesmo problema. Em uma tarefa de classificação, seria o uso de diferentes classificadores, ou variações de um mesmo classificador, que combinados geram a classe para o exemplo. Existem várias estratégias para realizar isso, veremos algumas a seguir. "
   ]
  },
  {
   "cell_type": "markdown",
   "id": "7e4e64e5",
   "metadata": {},
   "source": [
    "## Exemplo 1.1: Bagging\n",
    "O *Bootstrap Aggregating*, ou *Bagging*, é uma técnica de Ensemble de classificadores homogêneos, ou seja, a combinação de variações de um mesmo classificador. No Bagging, o que é variado é a base de dados em que cada classificador é treinado. O conjunto de treinamento é dividido em *n* amostras do mesmo tamanho do conjunto original, removendo alguns exemplos e repetindo outros, com cada classificador sendo treinado com uma dessas amostras. Após o treinamento, a classificação pode ser feita através de um esquema de voto, em que cada classificador indica uma classe e a mais indicada é atribuída ao exemplo.\n",
    "\n",
    "Esse tipo de método é mais eficaz em algoritmos considerados instáveis, que podem sofrer grandes alterações com poucas mudanças nos dados, como a Árvore de Decisão, que diferencia seu resultado apartir dos atributos escolhidos para a decisão. Utilizar Bagging ajuda a diminuir a variabilidade dos resultados. Veremos a seguir um exemplo de uso de Bagging com Árvore de Decisão na base de dados `digits`."
   ]
  },
  {
   "cell_type": "code",
   "execution_count": 8,
   "id": "4560ab0b",
   "metadata": {},
   "outputs": [
    {
     "name": "stdout",
     "output_type": "stream",
     "text": [
      "Acurácia Árvore Única: 0.8416666666666667\n",
      "Acurácia Bagging Ensemble: 0.9222222222222223\n"
     ]
    }
   ],
   "source": [
    "from sklearn.datasets import load_digits\n",
    "from sklearn.model_selection import train_test_split\n",
    "from sklearn.tree import DecisionTreeClassifier\n",
    "from sklearn.ensemble import BaggingClassifier\n",
    "from sklearn.metrics import accuracy_score\n",
    "import matplotlib.pyplot as plt\n",
    "import numpy as np\n",
    "\n",
    "# --- Carrega dataset ---\n",
    "X, y = load_digits(return_X_y=True)\n",
    "X_train, X_test, y_train, y_test = train_test_split(X, y, test_size=0.2, random_state=42)\n",
    "\n",
    "# --- Modelo base ---\n",
    "base_tree = DecisionTreeClassifier(max_depth=None, random_state=42)\n",
    "\n",
    "# --- Bagging ensemble ---\n",
    "bagging = BaggingClassifier(\n",
    "    estimator=base_tree,\n",
    "    n_estimators=10,\n",
    "    max_samples=0.8,\n",
    "    max_features=1.0,\n",
    "    bootstrap=True,\n",
    "    random_state=42\n",
    ")\n",
    "\n",
    "# --- Treino ---\n",
    "bagging.fit(X_train, y_train)\n",
    "\n",
    "# --- Avaliação ---\n",
    "y_pred = bagging.predict(X_test)\n",
    "print(\"Acurácia Árvore Única:\", accuracy_score(y_test, base_tree.fit(X_train, y_train).predict(X_test)))\n",
    "print(\"Acurácia Bagging Ensemble:\", accuracy_score(y_test, y_pred))\n"
   ]
  },
  {
   "cell_type": "markdown",
   "id": "ff78c7af",
   "metadata": {},
   "source": [
    "Apenas com esse exemplo, já podemos verificar que o uso de Ensemble contribui para a melhora do modelo, quando comparado com apenas um exemplo.\n",
    "\n",
    "Podemos também verificar como cada classificador, ou estimador, realiza a votação."
   ]
  },
  {
   "cell_type": "code",
   "execution_count": null,
   "metadata": {},
   "outputs": [
    {
     "data": {
      "image/png": "[encoded data removed]",
      "text/plain": [
       "<Figure size 800x400 with 2 Axes>"
      ]
     },
     "metadata": {},
     "output_type": "display_data"
    }
   ],
   "source": [
    "# Define um exemplo para visualização\n",
    "idx = 3\n",
    "sample = X_test[idx]\n",
    "true_label = y_test[idx]\n",
    "\n",
    "# Obtem as previsões de cada árvore individual\n",
    "individual_preds = [est.predict([sample])[0] for est in bagging.estimators_]\n",
    "final_pred = bagging.predict([sample])[0]\n",
    "\n",
    "# --- Plot ---\n",
    "plt.figure(figsize=(8, 4))\n",
    "plt.subplot(1, 2, 1)\n",
    "plt.imshow(sample.reshape(8, 8), cmap='gray')\n",
    "plt.title(f\"classe real: {true_label}\\nClasse prevista: {final_pred}\")\n",
    "plt.axis('off')\n",
    "\n",
    "plt.subplot(1, 2, 2)\n",
    "plt.bar(range(len(individual_preds)), individual_preds)\n",
    "plt.axhline(true_label, color='red', linestyle='--', label='Classe Real')\n",
    "plt.xlabel(\"Índice do Estimador\")\n",
    "plt.ylabel(\"Classe Prevista\")\n",
    "plt.title(\"Predições dos Estimadores Individuais\")\n",
    "plt.legend()\n",
    "plt.tight_layout()\n",
    "plt.show()"
   ]
  },
  {
   "cell_type": "markdown",
   "id": "d713541e",
   "metadata": {},
   "source": [
    "### Random Forest\n",
    "Um dos modelos mais eficientes de Aprendizado de Máquina trata-se do algoritmo de *Random Forest* (Floresta Aleatória em uma tradução direta para o português). Esse modelo na verdade é um Ensemble de Árvores de Decisão com Bagging, mas com uma alteração adicional, a cada nó das árvores, são considerados apenas alguns atributos para definir a decisão, selecionados de forma aleatória, gerando ainda mais variações nas árvores geradas. Veremos um exemplo de aplicação no scikit-learn. Os hiperparâmetros principais desse modelo é o número de árvores da floresta e a quantidade de atributos para ser utilizado em cada nó (definiremos como o padrão da biblioteca, sendo a raiz quadrada da quantidade de atributos para problemas de classificação e um terço dos atributos para regressão)."
   ]
  },
  {
   "cell_type": "code",
   "execution_count": 11,
   "id": "fce112df",
   "metadata": {},
   "outputs": [
    {
     "name": "stdout",
     "output_type": "stream",
     "text": [
      "Acurácia Random Forest: 0.9583333333333334\n"
     ]
    }
   ],
   "source": [
    "# Random Forest para digits\n",
    "from sklearn.ensemble import RandomForestClassifier\n",
    "\n",
    "rf = RandomForestClassifier(n_estimators=10, max_features='sqrt', max_depth=None, random_state=42)\n",
    "rf.fit(X_train, y_train)\n",
    "y_rf_pred = rf.predict(X_test)\n",
    "\n",
    "print(\"Acurácia Random Forest:\", accuracy_score(y_test, y_rf_pred))"
   ]
  },
  {
   "cell_type": "markdown",
   "metadata": {},
   "source": [
    "## Exemplo 1.2: Boosting"
   ]
  },
  {
   "cell_type": "markdown",
   "id": "c8dabbfd",
   "metadata": {},
   "source": [
    "## Exemplo 1.3: Stacking"
   ]
  },
  {
   "cell_type": "markdown",
   "metadata": {},
   "source": []
  }
 ],
 "metadata": {
  "kernelspec": {
   "display_name": ".venv",
   "language": "python",
   "name": "python3"
  },
  "language_info": {
   "codemirror_mode": {
    "name": "ipython",
    "version": 3
   },
   "file_extension": ".py",
   "mimetype": "text/x-python",
   "name": "python",
   "nbconvert_exporter": "python",
   "pygments_lexer": "ipython3",
   "version": "3.13.3"
  }
 },
 "nbformat": 4,
 "nbformat_minor": 5
}
