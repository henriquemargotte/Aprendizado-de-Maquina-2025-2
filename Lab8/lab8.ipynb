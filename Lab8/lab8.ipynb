{
 "cells": [
  {
   "cell_type": "markdown",
   "id": "c958484a",
   "metadata": {},
   "source": [
    "# Laboratório 8\n",
    "Material desenvolvido por Henrique Margotte e Aurora Pozo para a disciplina de Aprendizado de Máquina, para o curso de Informática Biomédica da UFPR, semestre 2025/2. Códigos baseados em exemplos da biblioteca scikit-learn e nos notebooks Python do livro \"Inteligência Artificial: Uma Abordagem de Aprendizado de Máquina\", 2ª edição."
   ]
  },
  {
   "cell_type": "markdown",
   "id": "a34161c5",
   "metadata": {},
   "source": [
    "# Exemplo 1: Ensembles\n",
    "Durante os laboratórios, vimos diversos modelos de Aprendizado de Máquina, desde os mais tradicionais até as cada vez mais complexas redes neurais. E vimos que cada modelo tem suas vantagens e desvantagens, conseguindo resultados melhores ou piores para cada tipo de problema, variando até mesmo entre versões diferentes de um mesmo modelo, ao ajustarmos seus hiperparâmetros. Também vimos como realizar comparações e experimentos para definir qual é o melhor para determinada tarefa.\n",
    "\n",
    "Mas, e se não quisermos usar apenas um modelo? E se usarmos mais de uma variação de um mesmo modelo? Se combinarmos diferentes modelos de Aprendizado de Máquina, poderíamos obter melhores resultados que apenas um? Essas são as ideias trabalhadas pelo conceito de `Ensemble`.\n",
    "\n",
    "Ensemble consiste na combinação de vários modelos para resolver um mesmo problema. Em uma tarefa de classificação, seria o uso de diferentes classificadores, ou variações de um mesmo classificador, que combinados geram a classe para o exemplo. Existem várias estratégias para realizar isso, veremos algumas a seguir. "
   ]
  },
  {
   "cell_type": "markdown",
   "id": "7e4e64e5",
   "metadata": {},
   "source": [
    "## Exemplo 1.1: Bagging\n"
   ]
  },
  {
   "cell_type": "markdown",
   "metadata": {},
   "source": [
    "## Exemplo 1.2: Boosting"
   ]
  },
  {
   "cell_type": "markdown",
   "id": "c8dabbfd",
   "metadata": {},
   "source": [
    "## Exemplo 1.3: Stacking"
   ]
  },
  {
   "cell_type": "markdown",
   "metadata": {},
   "source": []
  }
 ],
 "metadata": {
  "language_info": {
   "name": "python"
  }
 },
 "nbformat": 4,
 "nbformat_minor": 5
}
