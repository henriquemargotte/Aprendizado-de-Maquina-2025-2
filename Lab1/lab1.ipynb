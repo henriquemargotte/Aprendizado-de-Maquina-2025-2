{
 "cells": [
  {
   "cell_type": "markdown",
   "id": "eb90a423",
   "metadata": {},
   "source": [
    "# Laboratório 1\n",
    "Material desenvolvido por Henrique Margotte e Aurora Pozo para a disciplina de Aprendizado de Máquina, para o curso de Informática Biomédica da UFPR, semestre 2025/2. Códigos baseados em exemplos da biblioteca scikit-learn e nos notebooks Python do livro \"Inteligência Artificial: Uma Abordagem de Aprendizado de Máquina\", 2ª edição."
   ]
  },
  {
   "cell_type": "markdown",
   "id": "202a07a3",
   "metadata": {},
   "source": [
    "# Exemplo 1: Usando scikit-learn para Aprendizado de Máquina!\n",
    "Para começarmos, faremos um exemplo de como serão os futuros exercícios de Aprendizado de Máquina usando a biblioteca scikit-learn. Não se preocupe em entender tudo que está acontecendo agora, vamos abordar essas técnicas durante os próximos laboratórios, esse é apenas um exemplo do processo!"
   ]
  },
  {
   "cell_type": "markdown",
   "id": "de600eb5",
   "metadata": {},
   "source": [
    "## Preparando o ambiente Python\n",
    "Antes de mais nada, precisamos configurar o nosso Google Colab, para que tenha todas as ferramentas necessárias disponíveis para o uso. Nada nos impede de realizar isso apenas quando precisarmos, mas é uma boa prática já deixar na mão tudo que sabemos que vamos usar!\n",
    "As bibliotecas que iremos usar hoje já vêm instaladas no ambiente por padrão, mas se estiver usando outra ferramenta ou executando em um computador pessoal, lembre-se de instalar. Normalmente rodar \"pip install\" e o nome da biblioteca resolve!\n",
    "Com tudo instalado, vamos importar o que precisamos. Note que algumas bibliotecas possuem um alias, \"as\", que é apenas um apelido para a biblioteca, facilitando quando chamarmos alguma função dela sem precisar escrever o nome completo. Essas são as nomenclaturas padrão que irá encontrar na grande maioria dos exemplos."
   ]
  },
  {
   "cell_type": "code",
   "execution_count": 1,
   "id": "a15d92ca",
   "metadata": {},
   "outputs": [],
   "source": [
    "import numpy as np \n",
    "import pandas as pd\n",
    "import matplotlib.pyplot as plt\n",
    "import seaborn as sns"
   ]
  },
  {
   "cell_type": "markdown",
   "id": "488a1543",
   "metadata": {},
   "source": [
    "Também não precisamos importar toda a biblioteca do scikit-learn, mas podemos selecionar apenas o que queremos usar. No caso desse exemplo, importaremos o dataset iris, um divisor de dados em treino e teste, um escalador, um modelo de classificação KNN e algumas métricas. Não se preocupe com esses nomes agora!"
   ]
  },
  {
   "cell_type": "code",
   "execution_count": 6,
   "id": "f8f56367",
   "metadata": {},
   "outputs": [],
   "source": [
    "from sklearn.datasets import load_iris\n",
    "from sklearn.model_selection import train_test_split\n",
    "from sklearn.preprocessing import StandardScaler\n",
    "from sklearn.neighbors import KNeighborsClassifier\n",
    "from sklearn.metrics import accuracy_score, classification_report"
   ]
  },
  {
   "cell_type": "markdown",
   "id": "cf431d24",
   "metadata": {},
   "source": [
    "## Preparando os dados\n",
    "Com o ambiente configurado, precisamos dos dados para alimentar nosso modelo de AM. O Iris é uma das bases de dados mais comuns nos exercícios de AM, sendo composta de informações sobre três espécies de flores.\n",
    "Iremos instalar esse dataset e realizar algumas etapas de pré-processamento nos dados. O pré-processamento é a etapa de preparo dos dados que antecede a alimentação do modelo. Iremos explorar bem melhor esse conceito no próximo Laboratório."
   ]
  },
  {
   "cell_type": "code",
   "execution_count": 4,
   "id": "7d1b5636",
   "metadata": {},
   "outputs": [],
   "source": [
    "iris = load_iris()\n",
    "X = iris.data\n",
    "y = iris.target\n",
    "\n",
    "X_train, X_test, y_train, y_test = train_test_split(X, y, test_size=0.3, random_state=42)\n",
    "\n",
    "scaler = StandardScaler()\n",
    "X_train = scaler.fit_transform(X_train)\n",
    "X_test = scaler.transform(X_test)\n"
   ]
  },
  {
   "cell_type": "markdown",
   "id": "bc3ce905",
   "metadata": {},
   "source": [
    "## Ensinando e testando o modelo\n",
    "Agora que temos os dados divididos em treino, que serão \"ensinados\" ao modelo, e teste, que usaremos para ver o quão correto o modelo é, e em X, dados de entrada, e y, de saída. Podemos fornecer esses dados a um modelo de AM."
   ]
  },
  {
   "cell_type": "code",
   "execution_count": 7,
   "id": "e41d00f3",
   "metadata": {},
   "outputs": [
    {
     "name": "stdout",
     "output_type": "stream",
     "text": [
      "Acurácia: 1.00\n",
      "              precision    recall  f1-score   support\n",
      "\n",
      "      setosa       1.00      1.00      1.00        19\n",
      "  versicolor       1.00      1.00      1.00        13\n",
      "   virginica       1.00      1.00      1.00        13\n",
      "\n",
      "    accuracy                           1.00        45\n",
      "   macro avg       1.00      1.00      1.00        45\n",
      "weighted avg       1.00      1.00      1.00        45\n",
      "\n"
     ]
    }
   ],
   "source": [
    "model = KNeighborsClassifier(n_neighbors=3)\n",
    "model.fit(X_train, y_train)\n",
    "\n",
    "y_pred = model.predict(X_test)\n",
    "accuracy = accuracy_score(y_test, y_pred)\n",
    "print(f\"Acurácia: {accuracy:.2f}\")\n",
    "print(classification_report(y_test, y_pred, target_names=iris.target_names))"
   ]
  },
  {
   "cell_type": "markdown",
   "id": "6c18123e",
   "metadata": {},
   "source": [
    "## Visualizando os resultados\n",
    "Que bom! Nosso modelo funcionou e a acurácia foi igual a 1, isso significa que a taxa de acerto do que o modelo previu e as respostas reais foi de 100%!\n",
    "Mas, o que isso significa na prática? Podemos usar gráficos para enxergarmos isso melhor!"
   ]
  },
  {
   "cell_type": "code",
   "execution_count": 8,
   "id": "184fbab6",
   "metadata": {},
   "outputs": [
    {
     "name": "stdout",
     "output_type": "stream",
     "text": [
      "Resultados do modelo:\n"
     ]
    },
    {
     "data": {
      "image/png": "[encoded data removed]",
      "text/plain": [
       "<Figure size 640x480 with 1 Axes>"
      ]
     },
     "metadata": {},
     "output_type": "display_data"
    }
   ],
   "source": [
    "# Visualizando os resultados\n",
    "print(\"Resultados do modelo:\")\n",
    "results_df = pd.DataFrame({\n",
    "    'Predito': y_pred,\n",
    "    'Real': y_test\n",
    "})\n",
    "sns.countplot(data=results_df, x='Predito', hue='Real')\n",
    "plt.title('Comparação entre valores preditos e reais')\n",
    "plt.xlabel('Classe Predita')\n",
    "plt.ylabel('Contagem')\n",
    "plt.legend(title='Classe Real', loc='upper right')\n",
    "plt.show()"
   ]
  }
 ],
 "metadata": {
  "kernelspec": {
   "display_name": "Python 3",
   "language": "python",
   "name": "python3"
  },
  "language_info": {
   "codemirror_mode": {
    "name": "ipython",
    "version": 3
   },
   "file_extension": ".py",
   "mimetype": "text/x-python",
   "name": "python",
   "nbconvert_exporter": "python",
   "pygments_lexer": "ipython3",
   "version": "3.10.12"
  }
 },
 "nbformat": 4,
 "nbformat_minor": 5
}
